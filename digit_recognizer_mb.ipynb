{
 "cells": [
  {
   "cell_type": "code",
   "execution_count": 1,
   "metadata": {},
   "outputs": [],
   "source": [
    "\"\"\" Implements a CNN to recognize hand-written digits.\n",
    "Data: https://www.kaggle.com/c/digit-recognizer/data > train.csv\n",
    "\"\"\"\n",
    "\n",
    "import numpy as np\n",
    "import matplotlib.pyplot as plt\n",
    "import torch\n",
    "import torch.nn as nn\n",
    "import torch.nn.functional as F\n",
    "from torch.utils.data import Dataset\n",
    "from torch.utils.data import DataLoader\n",
    "from torch.utils.data import random_split\n",
    "from torchsummary import summary\n",
    "\n",
    "device = torch.device('cuda:0' if torch.cuda.is_available() else 'cpu')\n",
    "\n",
    "IN_PATH = \"../data/\"\n",
    "OUT_PATH = \"../data/models/\"\n"
   ]
  },
  {
   "cell_type": "code",
   "execution_count": 3,
   "metadata": {
    "execution": {
     "iopub.execute_input": "2022-03-14T13:22:03.098176Z",
     "iopub.status.busy": "2022-03-14T13:22:03.097893Z",
     "iopub.status.idle": "2022-03-14T13:22:03.110999Z",
     "shell.execute_reply": "2022-03-14T13:22:03.110245Z",
     "shell.execute_reply.started": "2022-03-14T13:22:03.098143Z"
    },
    "trusted": true
   },
   "outputs": [],
   "source": [
    "class Digits(Dataset):\n",
    "\n",
    "    def __init__(self, path_to_data):\n",
    "        data = np.genfromtxt(\n",
    "            path_to_data, delimiter=\",\", skip_header=True)\n",
    "        self.image = torch.from_numpy(\n",
    "            data[:, 1:]).float().view(-1, 1, 28, 28).to(device)\n",
    "        self.label = torch.from_numpy(data[:, 0:1]).long().squeeze().to(device)\n",
    "\n",
    "    def __len__(self):\n",
    "        return len(self.image)\n",
    "\n",
    "    def __getitem__(self, index):\n",
    "        return self.image[index], self.label[index]\n",
    "\n",
    "\n",
    "dataset = Digits(IN_PATH+\"digit-recognizer-train.csv\")\n"
   ]
  },
  {
   "cell_type": "code",
   "execution_count": 4,
   "metadata": {},
   "outputs": [
    {
     "name": "stdout",
     "output_type": "stream",
     "text": [
      "21000\n",
      "8400\n",
      "12600\n"
     ]
    }
   ],
   "source": [
    "train_size = int(0.5 * len(dataset))\n",
    "valid_size = int(0.2 * len(dataset))\n",
    "test_size = len(dataset) - train_size - valid_size\n",
    "print(train_size)\n",
    "print(valid_size)\n",
    "print(test_size)\n",
    "batch_size = 10\n",
    "train_dataset, valid_dataset, test_dataset = torch.utils.data.random_split(\n",
    "    dataset, (train_size, valid_size, test_size))\n",
    "\n",
    "train_dataset_generator = DataLoader(train_dataset, batch_size=batch_size, shuffle=True)\n",
    "valid_dataset_generator = DataLoader(valid_dataset, batch_size=batch_size, shuffle=True)\n",
    "test_dataset_generator = DataLoader(test_dataset, batch_size=batch_size, shuffle=True)\n"
   ]
  },
  {
   "cell_type": "code",
   "execution_count": 5,
   "metadata": {},
   "outputs": [],
   "source": [
    "class Recognizer(nn.Module):\n",
    "    def __init__(self):\n",
    "        super(Recognizer, self).__init__()\n",
    "        # Input (-1, 1, 28, 28)\n",
    "        self.conv1 = nn.Conv2d(1, 32, kernel_size=5, stride=1, padding=1)\n",
    "        self.drop1 = nn.Dropout2d(p=0.5)\n",
    "        self.pool1 = nn.MaxPool2d(kernel_size=2, stride=2, padding=0)\n",
    "        self.conv2 = nn.Conv2d(32, 64, kernel_size=5, stride=1, padding=1)\n",
    "        self.drop2 = nn.Dropout2d(p=0.5)\n",
    "        self.pool2 = nn.MaxPool2d(kernel_size=2, stride=2, padding=0)\n",
    "        self.new_size = 64 * 5 * 5\n",
    "        self.fc1 = torch.nn.Linear(self.new_size, 64)\n",
    "        self.drop3 = nn.Dropout(p=0.5)\n",
    "        self.fc2 = torch.nn.Linear(64, 10)\n",
    "        self.train_loss = []\n",
    "        self.valid_loss = []\n",
    "        self.test_loss = []\n",
    "\n",
    "    def forward(self, x):\n",
    "        x = F.relu(self.conv1(x))\n",
    "        x = self.drop1(x)\n",
    "        x = self.pool1(x)\n",
    "        x = F.relu(self.conv2(x))\n",
    "        x = self.drop2(x)\n",
    "        x = self.pool2(x)\n",
    "        x = x.view(-1, self.new_size)\n",
    "        x = F.relu(self.fc1(x))\n",
    "        x = self.drop3(x)\n",
    "        x = self.fc2(x)\n",
    "        return x\n"
   ]
  },
  {
   "cell_type": "code",
   "execution_count": 6,
   "metadata": {},
   "outputs": [
    {
     "name": "stdout",
     "output_type": "stream",
     "text": [
      "----------------------------------------------------------------\n",
      "        Layer (type)               Output Shape         Param #\n",
      "================================================================\n",
      "            Conv2d-1           [-1, 32, 26, 26]             832\n",
      "         Dropout2d-2           [-1, 32, 26, 26]               0\n",
      "         MaxPool2d-3           [-1, 32, 13, 13]               0\n",
      "            Conv2d-4           [-1, 64, 11, 11]          51,264\n",
      "         Dropout2d-5           [-1, 64, 11, 11]               0\n",
      "         MaxPool2d-6             [-1, 64, 5, 5]               0\n",
      "            Linear-7                   [-1, 64]         102,464\n",
      "           Dropout-8                   [-1, 64]               0\n",
      "            Linear-9                   [-1, 10]             650\n",
      "================================================================\n",
      "Total params: 155,210\n",
      "Trainable params: 155,210\n",
      "Non-trainable params: 0\n",
      "----------------------------------------------------------------\n",
      "Input size (MB): 0.00\n",
      "Forward/backward pass size (MB): 0.50\n",
      "Params size (MB): 0.59\n",
      "Estimated Total Size (MB): 1.10\n",
      "----------------------------------------------------------------\n"
     ]
    }
   ],
   "source": [
    "lr, momentum, epochs = 0.001, 0.0001, 75\n",
    "recognizer = Recognizer().to(device)\n",
    "loss = nn.CrossEntropyLoss()\n",
    "optimizer = torch.optim.SGD(recognizer.parameters(), lr=lr, momentum=momentum)\n",
    "summary(recognizer, (1, 28, 28))\n",
    "min_valid_loss = np.inf\n"
   ]
  },
  {
   "cell_type": "code",
   "execution_count": 7,
   "metadata": {},
   "outputs": [],
   "source": [
    "for _ in range(epochs):\n",
    "    local_errors = []\n",
    "    recognizer.train()\n",
    "    for imgs, labels in train_dataset_generator:\n",
    "        error = loss(recognizer(imgs), labels)\n",
    "        local_errors.append(error.item())\n",
    "        optimizer.zero_grad()\n",
    "        error.backward()\n",
    "        optimizer.step()\n",
    "    train_loss = np.mean(local_errors)\n",
    "    recognizer.train_loss.append(train_loss)\n",
    "\n",
    "    local_errors = []\n",
    "    recognizer.eval()\n",
    "    with torch.no_grad():\n",
    "        for imgs, labels in valid_dataset_generator:\n",
    "            error = loss(recognizer(imgs), labels)\n",
    "            local_errors.append(error.item())\n",
    "        valid_loss = np.mean(local_errors)\n",
    "        recognizer.valid_loss.append(valid_loss)\n",
    "\n",
    "        if min_valid_loss > valid_loss:\n",
    "            min_valid_loss = valid_loss\n",
    "            torch.save(recognizer.state_dict(),\n",
    "                       OUT_PATH+\"recognizer_tmp.pt\")\n"
   ]
  },
  {
   "cell_type": "code",
   "execution_count": 8,
   "metadata": {},
   "outputs": [
    {
     "data": {
      "text/plain": [
       "[<matplotlib.lines.Line2D at 0x18656cf40>]"
      ]
     },
     "execution_count": 8,
     "metadata": {},
     "output_type": "execute_result"
    },
    {
     "data": {
      "image/png": "[encoded data removed]",
      "text/plain": [
       "<Figure size 432x288 with 1 Axes>"
      ]
     },
     "metadata": {
      "needs_background": "light"
     },
     "output_type": "display_data"
    }
   ],
   "source": [
    "plt.plot(recognizer.train_loss)\n"
   ]
  },
  {
   "cell_type": "code",
   "execution_count": 9,
   "metadata": {},
   "outputs": [
    {
     "data": {
      "text/plain": [
       "[<matplotlib.lines.Line2D at 0x1878ed040>]"
      ]
     },
     "execution_count": 9,
     "metadata": {},
     "output_type": "execute_result"
    },
    {
     "data": {
      "image/png": "[encoded data removed]",
      "text/plain": [
       "<Figure size 432x288 with 1 Axes>"
      ]
     },
     "metadata": {
      "needs_background": "light"
     },
     "output_type": "display_data"
    }
   ],
   "source": [
    "plt.plot(recognizer.valid_loss)\n"
   ]
  },
  {
   "cell_type": "code",
   "execution_count": 11,
   "metadata": {},
   "outputs": [],
   "source": [
    "recognizer.eval()\n",
    "with torch.no_grad():\n",
    "    local_errors = []\n",
    "    for imgs, labels in test_dataset_generator:\n",
    "        error = loss(recognizer(imgs), labels)\n",
    "        local_errors.append(error.item())\n",
    "    test_loss = np.mean(local_errors)\n",
    "    recognizer.test_loss.append(test_loss)\n"
   ]
  },
  {
   "cell_type": "code",
   "execution_count": 12,
   "metadata": {},
   "outputs": [
    {
     "data": {
      "text/plain": [
       "0.04497581344200932"
      ]
     },
     "execution_count": 12,
     "metadata": {},
     "output_type": "execute_result"
    }
   ],
   "source": [
    "recognizer.test_loss[-1]\n"
   ]
  },
  {
   "cell_type": "code",
   "execution_count": null,
   "metadata": {},
   "outputs": [],
   "source": []
  }
 ],
 "metadata": {
  "interpreter": {
   "hash": "ef42b7b0e75b9074d2d5ad19d352c4933e4e037c27d19d30f2779657084f7b3f"
  },
  "kernelspec": {
   "display_name": "Python 3.9.7 ('.venv': venv)",
   "language": "python",
   "name": "python3"
  },
  "language_info": {
   "codemirror_mode": {
    "name": "ipython",
    "version": 3
   },
   "file_extension": ".py",
   "mimetype": "text/x-python",
   "name": "python",
   "nbconvert_exporter": "python",
   "pygments_lexer": "ipython3",
   "version": "3.9.7"
  },
  "orig_nbformat": 4
 },
 "nbformat": 4,
 "nbformat_minor": 2
}
